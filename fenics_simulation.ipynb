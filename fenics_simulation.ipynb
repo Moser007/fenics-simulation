{
 "cells": [
  {
   "cell_type": "code",
   "execution_count": null,
   "id": "1ffea977-8dbe-4a36-8fa0-211364b4d9e7",
   "metadata": {},
   "outputs": [],
   "source": [
    "from fenics import *\n",
    "import numpy as np\n",
    "import matplotlib.pyplot as plt"
   ]
  },
  {
   "cell_type": "code",
   "execution_count": null,
   "id": "dad4e283-d67b-4748-b878-517df35399f4",
   "metadata": {},
   "outputs": [],
   "source": [
    "# Parâmetros do material (exemplo para Alumina)\n",
    "material_properties = {\n",
    "    'Alumina': {\n",
    "        'rho': 3960,          # Densidade (kg/m³)\n",
    "        'cp': 880,            # Calor específico (J/(kg·K))\n",
    "        'k': 30,              # Condutividade térmica (W/(m·K))\n",
    "        'E': 370e9,           # Módulo de Young (Pa)\n",
    "        'nu': 0.22,           # Coeficiente de Poisson\n",
    "        'alpha': 8.5e-6       # Coeficiente de expansão térmica (/K)\n",
    "    },\n",
    "    # Adicionar outros materiais conforme necessário\n",
    "}\n"
   ]
  },
  {
   "cell_type": "code",
   "execution_count": null,
   "id": "98175a2d-5e57-4124-9322-d13bab4b6603",
   "metadata": {},
   "outputs": [],
   "source": [
    "# Escolher o material para simulação\n",
    "material_name = 'Alumina'\n",
    "props = material_properties[material_name]\n"
   ]
  },
  {
   "cell_type": "code",
   "execution_count": null,
   "id": "db6858e4-74eb-4c46-9a86-db91fd29ba93",
   "metadata": {},
   "outputs": [],
   "source": [
    "# Dimensões da peça\n",
    "length = 0.01       # Comprimento (m)\n",
    "thickness = 0.001   # Espessura (m)\n",
    "\n",
    "# Malha\n",
    "nx = 50\n",
    "ny = 10\n",
    "mesh = RectangleMesh(Point(0, 0), Point(length, thickness), nx, ny)\n",
    "\n",
    "# Espaço de função para temperatura\n",
    "V = FunctionSpace(mesh, 'P', 1)\n"
   ]
  },
  {
   "cell_type": "code",
   "execution_count": null,
   "id": "77417048-da95-4c5e-bfb5-d89d61bbf1de",
   "metadata": {},
   "outputs": [],
   "source": [
    "# Condições iniciais e de contorno\n",
    "T0 = Constant(300)   # Temperatura inicial (K)\n",
    "T_hot = Constant(623)  # Temperatura na face aquecida (K)\n",
    "\n",
    "# Definir subdomínios para condições de contorno\n",
    "boundary_markers = MeshFunction(\"size_t\", mesh, mesh.topology().dim() - 1)\n",
    "boundary_markers.set_all(0)\n",
    "\n",
    "class BottomBoundary(SubDomain):\n",
    "    def inside(self, x, on_boundary):\n",
    "        return near(x[1], 0.0) and on_boundary\n",
    "\n",
    "class TopBoundary(SubDomain):\n",
    "    def inside(self, x, on_boundary):\n",
    "        return near(x[1], thickness) and on_boundary\n",
    "\n",
    "bottom_boundary = BottomBoundary()\n",
    "top_boundary = TopBoundary()\n",
    "\n",
    "# Marcar as fronteiras\n",
    "bottom_boundary.mark(boundary_markers, 1)\n",
    "top_boundary.mark(boundary_markers, 2)\n",
    "\n",
    "ds = Measure('ds', domain=mesh, subdomain_data=boundary_markers)\n",
    "\n",
    "# Definir condições de contorno\n",
    "bc_bottom = DirichletBC(V, T_hot, bottom_boundary)\n",
    "bc_top = DirichletBC(V, T0, top_boundary)\n",
    "bcs = [bc_bottom, bc_top]\n"
   ]
  },
  {
   "cell_type": "code",
   "execution_count": null,
   "id": "aa52eb66-5635-41c0-a718-18b4a8699e76",
   "metadata": {},
   "outputs": [],
   "source": [
    "# Funções e variáveis\n",
    "u = Function(V)\n",
    "u_n = interpolate(T0, V)  # Solução no passo de tempo anterior\n",
    "v = TestFunction(V)\n",
    "\n",
    "# Parâmetros de tempo\n",
    "dt = 0.01                # Passo de tempo (s)\n",
    "t_end = 1.0              # Tempo total de simulação (s)\n",
    "num_steps = int(t_end / dt)\n",
    "\n",
    "# Propriedades do material\n",
    "rho = props['rho']\n",
    "cp = props['cp']\n",
    "k = props['k']\n",
    "\n",
    "# Definir o problema variacional\n",
    "F = rho * cp * (u - u_n) / dt * v * dx + k * dot(grad(u), grad(v)) * dx\n",
    "a, L = lhs(F), rhs(F)\n"
   ]
  },
  {
   "cell_type": "code",
   "execution_count": null,
   "id": "f2a4dfb5-d68b-436f-b777-74b34afa194b",
   "metadata": {},
   "outputs": [],
   "source": [
    "# Loop de tempo\n",
    "t = 0\n",
    "for n in range(num_steps):\n",
    "    t += dt\n",
    "    # Resolver\n",
    "    solve(a == L, u, bcs)\n",
    "    # Atualizar a solução anterior\n",
    "    u_n.assign(u)\n"
   ]
  },
  {
   "cell_type": "code",
   "execution_count": null,
   "id": "34d330ef-9f19-4a53-a1ec-06498f5babef",
   "metadata": {},
   "outputs": [],
   "source": [
    "# Visualização final da temperatura\n",
    "plt.figure()\n",
    "p = plot(u)\n",
    "plt.colorbar(p)\n",
    "plt.title('Temperatura em t = {:.2f} s'.format(t_end))\n",
    "plt.xlabel('Comprimento (m)')\n",
    "plt.ylabel('Espessura (m)')\n",
    "plt.show()\n"
   ]
  },
  {
   "cell_type": "code",
   "execution_count": null,
   "id": "2599fa38-ce7c-4c23-a7fb-5e46f075024f",
   "metadata": {},
   "outputs": [],
   "source": [
    "# Análise de tensões térmicas\n",
    "\n",
    "# Espaço de função para deslocamentos\n",
    "V_u = VectorFunctionSpace(mesh, 'P', 1)\n",
    "\n",
    "# Parâmetros mecânicos\n",
    "E = props['E']\n",
    "nu = props['nu']\n",
    "alpha = props['alpha']\n",
    "lambda_ = E * nu / ((1 + nu) * (1 - 2 * nu))\n",
    "mu = E / (2 * (1 + nu))\n",
    "\n",
    "# Definir a forma variacional para elasticidade\n",
    "def epsilon(u):\n",
    "    return sym(grad(u))\n",
    "\n",
    "def sigma(u_disp, T):\n",
    "    return lambda_ * tr(epsilon(u_disp)) * Identity(2) + 2 * mu * epsilon(u_disp) - \\\n",
    "           lambda_ * alpha * (u - T0) * Identity(2) - 2 * mu * alpha * (u - T0) * Identity(2)\n",
    "\n",
    "u_disp = TrialFunction(V_u)\n",
    "v_disp = TestFunction(V_u)\n",
    "\n",
    "a_elastic = inner(sigma(u_disp, u), epsilon(v_disp)) * dx\n",
    "L_elastic = dot(Constant((0, 0)), v_disp) * dx\n"
   ]
  },
  {
   "cell_type": "code",
   "execution_count": null,
   "id": "52cf6d75-38a5-482f-aa6e-06c106b4ca7e",
   "metadata": {},
   "outputs": [],
   "source": [
    "# Aplicar condições de contorno mecânicas (fixar deslocamentos em uma borda)\n",
    "def left_boundary(x, on_boundary):\n",
    "    return near(x[0], 0.0) and on_boundary\n",
    "\n",
    "bc_disp = DirichletBC(V_u, Constant((0, 0)), left_boundary)\n",
    "\n",
    "# Resolver o problema elástico\n",
    "u_sol = Function(V_u)\n",
    "solve(a_elastic == L_elastic, u_sol, bc_disp)\n"
   ]
  },
  {
   "cell_type": "code",
   "execution_count": null,
   "id": "c00e466a-12df-4440-8803-e82ccb35bd11",
   "metadata": {},
   "outputs": [],
   "source": [
    "# Calcular tensões\n",
    "stress = sigma(u_sol, u)\n",
    "V_s = TensorFunctionSpace(mesh, 'P', 1)\n",
    "stress_proj = project(stress, V_s)\n",
    "\n",
    "# Visualização das tensões (por exemplo, tensão de von Mises)\n",
    "from ufl import sqrt, inner\n",
    "s = stress_proj - (1./3) * tr(stress_proj) * Identity(2)  # Tensor desviador\n",
    "von_Mises = sqrt(3./2 * inner(s, s))\n",
    "V_mises = FunctionSpace(mesh, 'P', 1)\n",
    "von_Mises_proj = project(von_Mises, V_mises)\n",
    "\n",
    "plt.figure()\n",
    "p = plot(von_Mises_proj)\n",
    "plt.colorbar(p)\n",
    "plt.title('Tensão de von Mises (Pa)')\n",
    "plt.xlabel('Comprimento (m)')\n",
    "plt.ylabel('Espessura (m)')\n",
    "plt.show()\n"
   ]
  }
 ],
 "metadata": {
  "kernelspec": {
   "display_name": "Python 3 (ipykernel)",
   "language": "python",
   "name": "python3"
  },
  "language_info": {
   "codemirror_mode": {
    "name": "ipython",
    "version": 3
   },
   "file_extension": ".py",
   "mimetype": "text/x-python",
   "name": "python",
   "nbconvert_exporter": "python",
   "pygments_lexer": "ipython3",
   "version": "3.12.1"
  }
 },
 "nbformat": 4,
 "nbformat_minor": 5
}
